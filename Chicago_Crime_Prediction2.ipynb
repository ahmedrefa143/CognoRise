{
  "metadata": {
    "colab": {
      "provenance": [],
      "name": "Chicago_Crime_Prediction_Adaboost"
    },
    "kernelspec": {
      "name": "python3",
      "display_name": "Python 3",
      "language": "python"
    },
    "language_info": {
      "name": "python",
      "version": "3.10.13",
      "mimetype": "text/x-python",
      "codemirror_mode": {
        "name": "ipython",
        "version": 3
      },
      "pygments_lexer": "ipython3",
      "nbconvert_exporter": "python",
      "file_extension": ".py"
    },
    "kaggle": {
      "accelerator": "none",
      "dataSources": [
        {
          "sourceId": 1375,
          "sourceType": "datasetVersion",
          "datasetId": 740
        }
      ],
      "dockerImageVersionId": 30698,
      "isInternetEnabled": true,
      "language": "python",
      "sourceType": "notebook",
      "isGpuEnabled": false
    }
  },
  "nbformat_minor": 0,
  "nbformat": 4,
  "cells": [
    {
      "source": [
        "\n",
        "# IMPORTANT: RUN THIS CELL IN ORDER TO IMPORT YOUR KAGGLE DATA SOURCES\n",
        "# TO THE CORRECT LOCATION (/kaggle/input) IN YOUR NOTEBOOK,\n",
        "# THEN FEEL FREE TO DELETE THIS CELL.\n",
        "# NOTE: THIS NOTEBOOK ENVIRONMENT DIFFERS FROM KAGGLE'S PYTHON\n",
        "# ENVIRONMENT SO THERE MAY BE MISSING LIBRARIES USED BY YOUR\n",
        "# NOTEBOOK.\n",
        "\n",
        "import os\n",
        "import sys\n",
        "from tempfile import NamedTemporaryFile\n",
        "from urllib.request import urlopen\n",
        "from urllib.parse import unquote, urlparse\n",
        "from urllib.error import HTTPError\n",
        "from zipfile import ZipFile\n",
        "import tarfile\n",
        "import shutil\n",
        "\n",
        "CHUNK_SIZE = 40960\n",
        "DATA_SOURCE_MAPPING = 'crimes-in-chicago:https%3A%2F%2Fstorage.googleapis.com%2Fkaggle-data-sets%2F740%2F1375%2Fbundle%2Farchive.zip%3FX-Goog-Algorithm%3DGOOG4-RSA-SHA256%26X-Goog-Credential%3Dgcp-kaggle-com%2540kaggle-161607.iam.gserviceaccount.com%252F20240929%252Fauto%252Fstorage%252Fgoog4_request%26X-Goog-Date%3D20240929T184413Z%26X-Goog-Expires%3D259200%26X-Goog-SignedHeaders%3Dhost%26X-Goog-Signature%3Da5b84f0d36ea5161ed791e739e5fc6ec50d3a683d723e577025bb48558a63c094dc5f3134e15daaad5c79771263a27c279089f2c2069c7ce26b1bf377bfa82a364de13823bef06d7f7ff8f13494f38e84bf5781626bc5aaee8c7fda5e6f8ea8179bbcc14265f22bfdaa44acfcfe55e8c9827fdc530c52c280fadc24e816eb21d225e0cfc21032c34e0056fed350b2fd0dc4a11f4242d8724e020518f548bf3269e932684f77e3720d37bc02cec3dad379fe5af9dea21b6d855e66cae2b791def17bc291ce24534936e5a74878620035a5145802d00eba9f8619754c81d5f6b3e19d4f5abb73f02290a239599ea5060d0203f483f6ed2da8b7ce6bb1196c97650'\n",
        "\n",
        "KAGGLE_INPUT_PATH='/kaggle/input'\n",
        "KAGGLE_WORKING_PATH='/kaggle/working'\n",
        "KAGGLE_SYMLINK='kaggle'\n",
        "\n",
        "!umount /kaggle/input/ 2> /dev/null\n",
        "shutil.rmtree('/kaggle/input', ignore_errors=True)\n",
        "os.makedirs(KAGGLE_INPUT_PATH, 0o777, exist_ok=True)\n",
        "os.makedirs(KAGGLE_WORKING_PATH, 0o777, exist_ok=True)\n",
        "\n",
        "try:\n",
        "  os.symlink(KAGGLE_INPUT_PATH, os.path.join(\"..\", 'input'), target_is_directory=True)\n",
        "except FileExistsError:\n",
        "  pass\n",
        "try:\n",
        "  os.symlink(KAGGLE_WORKING_PATH, os.path.join(\"..\", 'working'), target_is_directory=True)\n",
        "except FileExistsError:\n",
        "  pass\n",
        "\n",
        "for data_source_mapping in DATA_SOURCE_MAPPING.split(','):\n",
        "    directory, download_url_encoded = data_source_mapping.split(':')\n",
        "    download_url = unquote(download_url_encoded)\n",
        "    filename = urlparse(download_url).path\n",
        "    destination_path = os.path.join(KAGGLE_INPUT_PATH, directory)\n",
        "    try:\n",
        "        with urlopen(download_url) as fileres, NamedTemporaryFile() as tfile:\n",
        "            total_length = fileres.headers['content-length']\n",
        "            print(f'Downloading {directory}, {total_length} bytes compressed')\n",
        "            dl = 0\n",
        "            data = fileres.read(CHUNK_SIZE)\n",
        "            while len(data) > 0:\n",
        "                dl += len(data)\n",
        "                tfile.write(data)\n",
        "                done = int(50 * dl / int(total_length))\n",
        "                sys.stdout.write(f\"\\r[{'=' * done}{' ' * (50-done)}] {dl} bytes downloaded\")\n",
        "                sys.stdout.flush()\n",
        "                data = fileres.read(CHUNK_SIZE)\n",
        "            if filename.endswith('.zip'):\n",
        "              with ZipFile(tfile) as zfile:\n",
        "                zfile.extractall(destination_path)\n",
        "            else:\n",
        "              with tarfile.open(tfile.name) as tarfile:\n",
        "                tarfile.extractall(destination_path)\n",
        "            print(f'\\nDownloaded and uncompressed: {directory}')\n",
        "    except HTTPError as e:\n",
        "        print(f'Failed to load (likely expired) {download_url} to path {destination_path}')\n",
        "        continue\n",
        "    except OSError as e:\n",
        "        print(f'Failed to load {download_url} to path {destination_path}')\n",
        "        continue\n",
        "\n",
        "print('Data source import complete.')\n"
      ],
      "metadata": {
        "id": "_ePYzF5sGRue"
      },
      "cell_type": "code",
      "outputs": [],
      "execution_count": null
    },
    {
      "cell_type": "code",
      "source": [
        "import numpy as np\n",
        "import pandas as pd\n",
        "import matplotlib.pyplot as plt\n",
        "%matplotlib inline\n",
        "import os # accessing directory structure\n",
        "plt.style.use('seaborn')\n",
        "pd.set_option('display.max_columns', None)"
      ],
      "metadata": {
        "id": "8pkGwn3XlAlF",
        "execution": {
          "iopub.status.busy": "2024-05-25T05:53:54.631627Z",
          "iopub.execute_input": "2024-05-25T05:53:54.632454Z",
          "iopub.status.idle": "2024-05-25T05:53:55.750167Z",
          "shell.execute_reply.started": "2024-05-25T05:53:54.632413Z",
          "shell.execute_reply": "2024-05-25T05:53:55.747851Z"
        },
        "trusted": true
      },
      "execution_count": null,
      "outputs": []
    },
    {
      "cell_type": "code",
      "source": [
        "for dirname, _, filenames in os.walk('/kaggle/input'):\n",
        "    for filename in filenames:\n",
        "        print(os.path.join(dirname, filename))"
      ],
      "metadata": {
        "execution": {
          "iopub.status.busy": "2024-05-25T05:53:55.75175Z",
          "iopub.execute_input": "2024-05-25T05:53:55.752168Z",
          "iopub.status.idle": "2024-05-25T05:53:55.761058Z",
          "shell.execute_reply.started": "2024-05-25T05:53:55.75214Z",
          "shell.execute_reply": "2024-05-25T05:53:55.759948Z"
        },
        "trusted": true,
        "id": "NjIPbfqEGRuj"
      },
      "execution_count": null,
      "outputs": []
    },
    {
      "cell_type": "code",
      "source": [
        "import pandas as pd\n",
        "\n",
        "# File paths\n",
        "file_paths = [\n",
        "    '/kaggle/input/crimes-in-chicago/Chicago_Crimes_2008_to_2011.csv',\n",
        "    '/kaggle/input/crimes-in-chicago/Chicago_Crimes_2001_to_2004.csv',\n",
        "    '/kaggle/input/crimes-in-chicago/Chicago_Crimes_2012_to_2017.csv',\n",
        "    '/kaggle/input/crimes-in-chicago/Chicago_Crimes_2005_to_2007.csv'\n",
        "]\n",
        "\n",
        "# Read and concatenate the CSV files into a single DataFrame, handling bad lines\n",
        "df_list = [pd.read_csv(file, on_bad_lines='skip') for file in file_paths]\n",
        "combined_df = pd.concat(df_list, ignore_index=True)\n",
        "\n",
        "# Display the shape of the combined DataFrame\n",
        "print(combined_df.shape)\n",
        "\n",
        "# Optionally, save the combined DataFrame to a new CSV file\n",
        "# combined_df.to_csv('combined_chicago_crimes.csv', index=False)\n"
      ],
      "metadata": {
        "id": "akWZLEzIWn0J",
        "execution": {
          "iopub.status.busy": "2024-05-25T05:53:55.762765Z",
          "iopub.execute_input": "2024-05-25T05:53:55.763121Z",
          "iopub.status.idle": "2024-05-25T05:55:01.910561Z",
          "shell.execute_reply.started": "2024-05-25T05:53:55.763091Z",
          "shell.execute_reply": "2024-05-25T05:55:01.908764Z"
        },
        "trusted": true
      },
      "execution_count": null,
      "outputs": []
    },
    {
      "cell_type": "code",
      "source": [
        "# crimes = pd.read_csv('/content/drive/MyDrive/bda/chicago_crime_dataset_bda.csv')"
      ],
      "metadata": {
        "id": "XtVqGPDDWxtQ",
        "execution": {
          "iopub.status.busy": "2024-05-25T05:55:01.913376Z",
          "iopub.execute_input": "2024-05-25T05:55:01.913951Z",
          "iopub.status.idle": "2024-05-25T05:55:01.918984Z",
          "shell.execute_reply.started": "2024-05-25T05:55:01.913916Z",
          "shell.execute_reply": "2024-05-25T05:55:01.917872Z"
        },
        "trusted": true
      },
      "execution_count": null,
      "outputs": []
    },
    {
      "cell_type": "code",
      "source": [
        "crimes = combined_df"
      ],
      "metadata": {
        "id": "9a1kafrUWxvY",
        "execution": {
          "iopub.status.busy": "2024-05-25T06:18:07.727396Z",
          "iopub.status.idle": "2024-05-25T06:18:07.728308Z",
          "shell.execute_reply.started": "2024-05-25T06:18:07.728021Z",
          "shell.execute_reply": "2024-05-25T06:18:07.728047Z"
        },
        "trusted": true
      },
      "execution_count": null,
      "outputs": []
    },
    {
      "cell_type": "markdown",
      "source": [
        "## <a name=\"p4\">Basic Description</a>"
      ],
      "metadata": {
        "id": "VcFeVqQovW5b"
      }
    },
    {
      "cell_type": "markdown",
      "source": [
        "**ID** - Unique identifier for the record.\n",
        "\n",
        "**Case Number** - The Chicago Police Department RD Number (Records Division Number), which is unique to the incident.\n",
        "\n",
        "**Date** - Date when the incident occurred. this is sometimes a best estimate.\n",
        "\n",
        "**Block** - The partially redacted address where the incident occurred, placing it on the same block as the actual address.\n",
        "\n",
        "**IUCR** - The Illinois Unifrom Crime Reporting code. This is directly linked to the Primary Type and Description. See the list of IUCR codes at https://data.cityofchicago.org/d/c7ck-438e.\n",
        "\n",
        "**Primary Type** - The primary description of the IUCR code.\n",
        "\n",
        "**Description** - The secondary description of the IUCR code, a subcategory of the primary description.\n",
        "\n",
        "**Location Description** - Description of the location where the incident occurred.\n",
        "\n",
        "**Arrest** - Indicates whether an arrest was made.\n",
        "\n",
        "**Domestic** - Indicates whether the incident was domestic-related as defined by the Illinois Domestic Violence Act.\n",
        "\n",
        "**Beat** - Indicates the beat where the incident occurred. A beat is the smallest police geographic area – each beat has a dedicated police beat car. Three to five beats make up a police sector, and three sectors make up a police district. The Chicago Police Department has 22 police districts. See the beats at https://data.cityofchicago.org/d/aerh-rz74.\n",
        "\n",
        "**District** - Indicates the police district where the incident occurred. See the districts at https://data.cityofchicago.org/d/fthy-xz3r.\n",
        "\n",
        "**Ward** - The ward (City Council district) where the incident occurred. See the wards at https://data.cityofchicago.org/d/sp34-6z76.\n",
        "\n",
        "**Community Area** - Indicates the community area where the incident occurred. Chicago has 77 community areas. See the community areas at https://data.cityofchicago.org/d/cauq-8yn6.\n",
        "\n",
        "**FBI Code** - Indicates the crime classification as outlined in the FBI's National Incident-Based Reporting System (NIBRS). See the Chicago Police Department listing of these classifications at http://gis.chicagopolice.org/clearmap_crime_sums/crime_types.html.\n",
        "\n",
        "**X Coordinate** - The x coordinate of the location where the incident occurred in State Plane Illinois East NAD 1983 projection. This location is shifted from the actual location for partial redaction but falls on the same block.\n",
        "\n",
        "**Y Coordinate** - The y coordinate of the location where the incident occurred in State Plane Illinois East NAD 1983 projection. This location is shifted from the actual location for partial redaction but falls on the same block.\n",
        "\n",
        "**Year** - Year the incident occurred.\n",
        "\n",
        "**Updated On** - Date and time the record was last updated.\n",
        "\n",
        "**Latitude** - The latitude of the location where the incident occurred. This location is shifted from the actual location for partial redaction but falls on the same block.\n",
        "\n",
        "**Longitude** - The longitude of the location where the incident occurred. This location is shifted from the actual location for partial redaction but falls on the same block.\n",
        "\n",
        "**Location** - The location where the incident occurred in a format that allows for creation of maps and other geographic operations on this data portal. This location is shifted from the actual location for partial redaction but falls on the same block."
      ],
      "metadata": {
        "id": "jRrfEQ2LqfAW"
      }
    },
    {
      "cell_type": "code",
      "source": [
        "crimes.shape"
      ],
      "metadata": {
        "id": "ydWnXqMbvlEV",
        "execution": {
          "iopub.status.busy": "2024-05-25T05:55:01.935666Z",
          "iopub.execute_input": "2024-05-25T05:55:01.936011Z",
          "iopub.status.idle": "2024-05-25T05:55:01.945708Z",
          "shell.execute_reply.started": "2024-05-25T05:55:01.935982Z",
          "shell.execute_reply": "2024-05-25T05:55:01.944955Z"
        },
        "trusted": true
      },
      "execution_count": null,
      "outputs": []
    },
    {
      "cell_type": "code",
      "source": [
        "crimes.info()"
      ],
      "metadata": {
        "id": "jYH5JeABZ28b",
        "execution": {
          "iopub.status.busy": "2024-05-25T05:55:01.946939Z",
          "iopub.execute_input": "2024-05-25T05:55:01.947905Z",
          "iopub.status.idle": "2024-05-25T05:55:01.982378Z",
          "shell.execute_reply.started": "2024-05-25T05:55:01.94787Z",
          "shell.execute_reply": "2024-05-25T05:55:01.981276Z"
        },
        "trusted": true
      },
      "execution_count": null,
      "outputs": []
    },
    {
      "cell_type": "code",
      "source": [
        "def summary(df):\n",
        "    summ = pd.DataFrame(df.dtypes, columns=['data type'])\n",
        "    summ['#missing'] = df.isnull().sum().values\n",
        "    summ['Duplicate'] = df.duplicated().sum()\n",
        "    summ['#unique'] = df.nunique().values\n",
        "    desc = pd.DataFrame(df.describe(include='all').transpose())\n",
        "    summ['min'] = desc['min'].values\n",
        "    summ['max'] = desc['max'].values\n",
        "    summ['avg'] = desc['mean'].values\n",
        "    summ['std dev'] = desc['std'].values\n",
        "    summ['top value'] = desc['top'].values\n",
        "    summ['Freq'] = desc['freq'].values\n",
        "\n",
        "    return summ\n",
        "\n",
        "summary(crimes.drop(columns=[\"ID\"])).style.background_gradient()"
      ],
      "metadata": {
        "id": "C5BUDshvms8P",
        "execution": {
          "iopub.status.busy": "2024-05-25T05:55:01.983629Z",
          "iopub.execute_input": "2024-05-25T05:55:01.983967Z",
          "iopub.status.idle": "2024-05-25T05:56:41.965087Z",
          "shell.execute_reply.started": "2024-05-25T05:55:01.983941Z",
          "shell.execute_reply": "2024-05-25T05:56:41.964134Z"
        },
        "trusted": true
      },
      "execution_count": null,
      "outputs": []
    },
    {
      "cell_type": "code",
      "source": [
        "# Convert dates to pandas datetime format\n",
        "crimes['Date'] = pd.to_datetime(crimes['Date'], format='%m/%d/%Y %I:%M:%S %p')\n",
        "\n",
        "# Setting the index to be the date will help us later\n",
        "crimes.index = pd.DatetimeIndex(crimes['Date'])\n"
      ],
      "metadata": {
        "id": "AqsnFFos7qau",
        "execution": {
          "iopub.status.busy": "2024-05-25T05:56:41.966336Z",
          "iopub.execute_input": "2024-05-25T05:56:41.967269Z",
          "iopub.status.idle": "2024-05-25T05:57:13.104869Z",
          "shell.execute_reply.started": "2024-05-25T05:56:41.967239Z",
          "shell.execute_reply": "2024-05-25T05:57:13.103745Z"
        },
        "trusted": true
      },
      "execution_count": null,
      "outputs": []
    },
    {
      "cell_type": "markdown",
      "source": [
        "## <a name=\"p4\">Filtering out irrelevant features from the dataset.</a>"
      ],
      "metadata": {
        "id": "v6dePJK4vSeK"
      }
    },
    {
      "cell_type": "code",
      "source": [
        "crimes.drop(['Case Number', 'IUCR','Updated On','Year', 'FBI Code', 'Beat','Ward','Community Area', 'Location'], inplace=True, axis=1)\n"
      ],
      "metadata": {
        "id": "bkGSmB3Nu-0M",
        "execution": {
          "iopub.status.busy": "2024-05-25T05:57:13.108615Z",
          "iopub.execute_input": "2024-05-25T05:57:13.10899Z",
          "iopub.status.idle": "2024-05-25T05:57:14.370143Z",
          "shell.execute_reply.started": "2024-05-25T05:57:13.10896Z",
          "shell.execute_reply": "2024-05-25T05:57:14.368896Z"
        },
        "trusted": true
      },
      "execution_count": null,
      "outputs": []
    },
    {
      "cell_type": "markdown",
      "source": [
        "## <a name=\"p4\">Dropping missing/null values as they are accounting for <1% of data.</a>"
      ],
      "metadata": {
        "id": "XYOwwQxO05fC"
      }
    },
    {
      "cell_type": "code",
      "source": [
        "crimes = crimes.dropna()"
      ],
      "metadata": {
        "id": "Nbk1-9G6u-2_",
        "execution": {
          "iopub.status.busy": "2024-05-25T05:57:14.371541Z",
          "iopub.execute_input": "2024-05-25T05:57:14.371902Z",
          "iopub.status.idle": "2024-05-25T05:57:17.428666Z",
          "shell.execute_reply.started": "2024-05-25T05:57:14.371872Z",
          "shell.execute_reply": "2024-05-25T05:57:17.427448Z"
        },
        "trusted": true
      },
      "execution_count": null,
      "outputs": []
    },
    {
      "cell_type": "code",
      "source": [
        "crimes.shape"
      ],
      "metadata": {
        "id": "d3brl35SlDdk",
        "execution": {
          "iopub.status.busy": "2024-05-25T05:57:17.429955Z",
          "iopub.execute_input": "2024-05-25T05:57:17.430361Z",
          "iopub.status.idle": "2024-05-25T05:57:17.436387Z",
          "shell.execute_reply.started": "2024-05-25T05:57:17.430334Z",
          "shell.execute_reply": "2024-05-25T05:57:17.435624Z"
        },
        "trusted": true
      },
      "execution_count": null,
      "outputs": []
    },
    {
      "cell_type": "code",
      "source": [
        "crimes['Primary Type'].value_counts()"
      ],
      "metadata": {
        "id": "Xocunj3gu-5c",
        "execution": {
          "iopub.status.busy": "2024-05-25T05:57:17.437744Z",
          "iopub.execute_input": "2024-05-25T05:57:17.438326Z",
          "iopub.status.idle": "2024-05-25T05:57:18.146607Z",
          "shell.execute_reply.started": "2024-05-25T05:57:17.438299Z",
          "shell.execute_reply": "2024-05-25T05:57:18.144965Z"
        },
        "trusted": true
      },
      "execution_count": null,
      "outputs": []
    },
    {
      "cell_type": "code",
      "source": [
        "crimes"
      ],
      "metadata": {
        "id": "GZccIf5g1wZs",
        "execution": {
          "iopub.status.busy": "2024-05-25T05:57:18.14899Z",
          "iopub.execute_input": "2024-05-25T05:57:18.149478Z",
          "iopub.status.idle": "2024-05-25T05:57:18.179777Z",
          "shell.execute_reply.started": "2024-05-25T05:57:18.14944Z",
          "shell.execute_reply": "2024-05-25T05:57:18.17866Z"
        },
        "trusted": true
      },
      "execution_count": null,
      "outputs": []
    },
    {
      "cell_type": "markdown",
      "source": [
        "## <a name=\"p4\">Reducing/merging number of crime types from 32 to 20.</a>"
      ],
      "metadata": {
        "id": "5lDLkWPbwgg_"
      }
    },
    {
      "cell_type": "code",
      "source": [
        "# Removing these from primary type\n",
        "crimes = crimes[(crimes['Primary Type'] != 'NON-CRIMINAL (SUBJECT SPECIFIED)') &\n",
        "                (crimes['Primary Type'] != 'NON-CRIMINAL') &\n",
        "                (crimes['Primary Type'] != 'NON - CRIMINAL') &\n",
        "                (crimes['Primary Type'] != 'CONCEALED CARRY LICENSE VIOLATION') &\n",
        "                (crimes['Primary Type'] != 'DOMESTIC VIOLENCE') &\n",
        "                (crimes['Primary Type'] != 'PUBLIC INDECENCY') &\n",
        "                (crimes['Primary Type'] != 'OBSCENITY') &\n",
        "                (crimes['Primary Type'] != 'RITUALISM')]\n",
        "\n",
        "# Add this type, it is rare. --Haifeng"
      ],
      "metadata": {
        "id": "wA2kbW1hu-8M",
        "execution": {
          "iopub.status.busy": "2024-05-25T05:57:18.181986Z",
          "iopub.execute_input": "2024-05-25T05:57:18.182964Z",
          "iopub.status.idle": "2024-05-25T05:57:23.717698Z",
          "shell.execute_reply.started": "2024-05-25T05:57:18.182919Z",
          "shell.execute_reply": "2024-05-25T05:57:23.716607Z"
        },
        "trusted": true
      },
      "execution_count": null,
      "outputs": []
    },
    {
      "cell_type": "code",
      "source": [
        "def combinePrimaryTypes(targetDf):\n",
        "    '''\n",
        "    This function helps combine PRIMARY CRIME TYPES\n",
        "    '''\n",
        "    targetDf.loc[targetDf['Primary Type'] == 'OTHER NARCOTIC VIOLATION', 'Primary Type'] = 'NARCOTICS'\n",
        "    targetDf.loc[targetDf['Primary Type'].isin(['PROSTITUTION', 'CRIM SEXUAL ASSAULT']), 'Primary Type'] = 'SEX OFFENSE'\n",
        "    targetDf.loc[targetDf['Primary Type'].isin(['LIQUOR LAW VIOLATION', 'RITUALISM', 'GAMBLING']), 'Primary Type'] = 'OTHER OFFENSE'\n",
        "    targetDf.loc[targetDf['Primary Type'].isin(['CRIMINAL TRESPASS', 'ROBBERY']), 'Primary Type'] = 'ROBBERY'\n",
        "    targetDf.loc[targetDf['Primary Type'] == 'INTERFERENCE WITH PUBLIC OFFICER', 'Primary Type'] = 'PUBLIC PEACE VIOLATION'\n",
        "    targetDf.loc[targetDf['Primary Type'].isin(['INTIMIDATION', 'STALKING']), 'Primary Type'] = 'INTIMIDATION or STALKING'\n",
        "\n",
        "    return targetDf\n"
      ],
      "metadata": {
        "id": "oiej0IX9u--w",
        "execution": {
          "iopub.status.busy": "2024-05-25T05:57:23.718906Z",
          "iopub.execute_input": "2024-05-25T05:57:23.719258Z",
          "iopub.status.idle": "2024-05-25T05:57:23.727229Z",
          "shell.execute_reply.started": "2024-05-25T05:57:23.71923Z",
          "shell.execute_reply": "2024-05-25T05:57:23.725825Z"
        },
        "trusted": true
      },
      "execution_count": null,
      "outputs": []
    },
    {
      "cell_type": "code",
      "source": [
        "crimes = combinePrimaryTypes(crimes)"
      ],
      "metadata": {
        "id": "UkfNHv8Wu_BG",
        "execution": {
          "iopub.status.busy": "2024-05-25T05:57:23.728538Z",
          "iopub.execute_input": "2024-05-25T05:57:23.728842Z",
          "iopub.status.idle": "2024-05-25T05:57:26.388369Z",
          "shell.execute_reply.started": "2024-05-25T05:57:23.728817Z",
          "shell.execute_reply": "2024-05-25T05:57:26.387441Z"
        },
        "trusted": true
      },
      "execution_count": null,
      "outputs": []
    },
    {
      "cell_type": "code",
      "source": [
        "crimes['Primary Type'].value_counts()"
      ],
      "metadata": {
        "id": "BuLw-ud_2Cnl",
        "execution": {
          "iopub.status.busy": "2024-05-25T05:57:26.38976Z",
          "iopub.execute_input": "2024-05-25T05:57:26.390069Z",
          "iopub.status.idle": "2024-05-25T05:57:27.014806Z",
          "shell.execute_reply.started": "2024-05-25T05:57:26.390044Z",
          "shell.execute_reply": "2024-05-25T05:57:27.013451Z"
        },
        "trusted": true
      },
      "execution_count": null,
      "outputs": []
    },
    {
      "cell_type": "markdown",
      "source": [
        "## <a name=\"p4\">Truncating data to 1.25%</a>"
      ],
      "metadata": {
        "id": "dRlT3c9blqMm"
      }
    },
    {
      "cell_type": "code",
      "source": [
        "from sklearn.model_selection import train_test_split\n",
        "\n",
        "# Assuming 'target_column' is the column you want to maintain the composition of\n",
        "X = crimes.drop(columns=['Primary Type'])  # Features\n",
        "y = crimes['Primary Type']  # Target variable\n",
        "\n",
        "# Split the data into train and test sets (sampled_crimes will be the test set)\n",
        "_, crimes = train_test_split(crimes, test_size=0.0125, stratify=y, random_state=42)\n",
        "\n",
        "# Display the sampled DataFrame\n",
        "print(crimes)\n"
      ],
      "metadata": {
        "id": "o4R8D-J6DIfG",
        "execution": {
          "iopub.status.busy": "2024-05-25T05:57:27.016395Z",
          "iopub.execute_input": "2024-05-25T05:57:27.016854Z",
          "iopub.status.idle": "2024-05-25T05:57:55.407103Z",
          "shell.execute_reply.started": "2024-05-25T05:57:27.016815Z",
          "shell.execute_reply": "2024-05-25T05:57:55.405142Z"
        },
        "trusted": true
      },
      "execution_count": null,
      "outputs": []
    },
    {
      "cell_type": "code",
      "source": [
        "loc_to_change  = list(crimes['Location Description'].value_counts()[20:].index)\n",
        "desc_to_change = list(crimes['Description'].value_counts()[20:].index)\n",
        "#type_to_change = list(crimes['Primary Type'].value_counts()[20:].index)\n",
        "\n",
        "crimes.loc[crimes['Location Description'].isin(loc_to_change) , crimes.columns=='Location Description'] = 'OTHER'\n",
        "crimes.loc[crimes['Description'].isin(desc_to_change) , crimes.columns=='Description'] = 'OTHER'\n",
        "#crimes.loc[crimes['Primary Type'].isin(type_to_change) , crimes.columns=='Primary Type'] = 'OTHER'"
      ],
      "metadata": {
        "id": "ymXz6KIh7B76",
        "execution": {
          "iopub.status.busy": "2024-05-25T05:57:55.409824Z",
          "iopub.execute_input": "2024-05-25T05:57:55.41134Z",
          "iopub.status.idle": "2024-05-25T05:57:55.468187Z",
          "shell.execute_reply.started": "2024-05-25T05:57:55.411288Z",
          "shell.execute_reply": "2024-05-25T05:57:55.466882Z"
        },
        "trusted": true
      },
      "execution_count": null,
      "outputs": []
    },
    {
      "cell_type": "code",
      "source": [
        "# we convert those 3 columns into 'Categorical' types -- works like 'factor' in R\n",
        "crimes['Primary Type']         = pd.Categorical(crimes['Primary Type'])\n",
        "crimes['Location Description'] = pd.Categorical(crimes['Location Description'])\n",
        "crimes['Description']          = pd.Categorical(crimes['Description'])"
      ],
      "metadata": {
        "id": "ZClAW-e27CKP",
        "execution": {
          "iopub.status.busy": "2024-05-25T05:57:55.469358Z",
          "iopub.execute_input": "2024-05-25T05:57:55.47026Z",
          "iopub.status.idle": "2024-05-25T05:57:55.50665Z",
          "shell.execute_reply.started": "2024-05-25T05:57:55.470227Z",
          "shell.execute_reply": "2024-05-25T05:57:55.505665Z"
        },
        "trusted": true
      },
      "execution_count": null,
      "outputs": []
    },
    {
      "cell_type": "markdown",
      "source": [
        "## <a name=\"p4\">Exploratory data analysis (EDA)</a>"
      ],
      "metadata": {
        "id": "pi6V8Zddl7ak"
      }
    },
    {
      "cell_type": "markdown",
      "source": [
        "# The EDA on the Chicago Crime dataset aims to uncover the distribution of crime types, identify hotspots for different crimes, analyze trends over time, assess arrest rates, and map crime density geospatially. This analysis will provide insights into crime patterns, locations, trends, law enforcement efforts, and spatial distribution within Chicago for informed decision-making and strategies."
      ],
      "metadata": {
        "id": "x3xSxJrnsq6c"
      }
    },
    {
      "cell_type": "code",
      "source": [
        "crime_types = crimes['Primary Type'].value_counts()\n",
        "# Calculate the total count\n",
        "total_count = crime_types.sum()\n",
        "\n",
        "# Calculate the percentage for each crime type\n",
        "crime_types_pct = crime_types / total_count * 100\n",
        "\n",
        "# Create a new Series with crime types above 1.5% threshold\n",
        "major_crime_types = crime_types_pct[crime_types_pct >= 1.5]\n",
        "\n",
        "# Group the remaining crime types as 'Others'\n",
        "others = crime_types_pct[crime_types_pct < 1.5].sum()\n",
        "if others > 0:\n",
        "    major_crime_types['Others'] = others\n",
        "\n",
        "# Create the pie chart\n",
        "fig, ax = plt.subplots(figsize=(10, 8))\n",
        "ax.pie(major_crime_types.values, labels=major_crime_types.index, autopct='%1.1f%%')\n",
        "ax.axis('equal')  # Ensure the pie chart is circular\n",
        "ax.set_title('Crime Types')\n",
        "\n",
        "plt.show()"
      ],
      "metadata": {
        "id": "1LulrUnb_HLI",
        "execution": {
          "iopub.status.busy": "2024-05-25T05:57:55.50817Z",
          "iopub.execute_input": "2024-05-25T05:57:55.509004Z",
          "iopub.status.idle": "2024-05-25T05:57:55.873554Z",
          "shell.execute_reply.started": "2024-05-25T05:57:55.508971Z",
          "shell.execute_reply": "2024-05-25T05:57:55.872417Z"
        },
        "trusted": true
      },
      "execution_count": null,
      "outputs": []
    },
    {
      "cell_type": "markdown",
      "source": [
        "#We can see that theft has occurred most frequently as it makes up of 21% of crime. Theft, battery, criminal damage, and narcotics are the most frequent occur crimes in Chicago which make up of 65.7% out of all the crimes."
      ],
      "metadata": {
        "id": "K_Tb45ZGnsku"
      }
    },
    {
      "cell_type": "code",
      "source": [
        "plt.figure(figsize=(8,10))\n",
        "crimes.groupby([crimes['Primary Type']]).size().sort_values(ascending=True).plot(kind='barh')\n",
        "plt.title('Number of crimes by type')\n",
        "plt.ylabel('Crime Type')\n",
        "plt.xlabel('Number of crimes')\n",
        "plt.show()"
      ],
      "metadata": {
        "id": "DaEoAKOF5BVE",
        "execution": {
          "iopub.status.busy": "2024-05-25T05:57:55.874956Z",
          "iopub.execute_input": "2024-05-25T05:57:55.87547Z",
          "iopub.status.idle": "2024-05-25T05:57:56.297844Z",
          "shell.execute_reply.started": "2024-05-25T05:57:55.875442Z",
          "shell.execute_reply": "2024-05-25T05:57:56.296745Z"
        },
        "trusted": true
      },
      "execution_count": null,
      "outputs": []
    },
    {
      "cell_type": "code",
      "source": [
        "plt.figure(figsize=(8,10))\n",
        "crimes.groupby([crimes['Location Description']]).size().sort_values(ascending=True).plot(kind='barh')\n",
        "plt.title('Number of crimes by Location')\n",
        "plt.ylabel('Crime Location')\n",
        "plt.xlabel('Number of crimes')\n",
        "plt.show()"
      ],
      "metadata": {
        "id": "F7BljDxe5BXj",
        "execution": {
          "iopub.status.busy": "2024-05-25T05:57:56.299292Z",
          "iopub.execute_input": "2024-05-25T05:57:56.300205Z",
          "iopub.status.idle": "2024-05-25T05:57:56.706833Z",
          "shell.execute_reply.started": "2024-05-25T05:57:56.300163Z",
          "shell.execute_reply": "2024-05-25T05:57:56.705699Z"
        },
        "trusted": true
      },
      "execution_count": null,
      "outputs": []
    },
    {
      "cell_type": "code",
      "source": [
        "days = ['Monday','Tuesday','Wednesday',  'Thursday', 'Friday', 'Saturday', 'Sunday']\n",
        "crimes.groupby([crimes.index.dayofweek]).size().plot(kind='barh')\n",
        "plt.ylabel('Days of the week')\n",
        "plt.yticks(np.arange(7), days)\n",
        "plt.xlabel('Number of crimes')\n",
        "plt.title('Number of crimes by day of the week')\n",
        "plt.show()"
      ],
      "metadata": {
        "id": "Nepd7es_Eand",
        "execution": {
          "iopub.status.busy": "2024-05-25T05:57:56.708283Z",
          "iopub.execute_input": "2024-05-25T05:57:56.709149Z",
          "iopub.status.idle": "2024-05-25T05:57:56.985906Z",
          "shell.execute_reply.started": "2024-05-25T05:57:56.709118Z",
          "shell.execute_reply": "2024-05-25T05:57:56.985068Z"
        },
        "trusted": true
      },
      "execution_count": null,
      "outputs": []
    },
    {
      "cell_type": "code",
      "source": [
        "crimes.groupby([crimes.index.month]).size().plot(kind='barh')\n",
        "plt.ylabel('Months of the year')\n",
        "plt.xlabel('Number of crimes')\n",
        "plt.title('Number of crimes by month of the year')\n",
        "plt.show()"
      ],
      "metadata": {
        "id": "zD25Uq55Ee2-",
        "execution": {
          "iopub.status.busy": "2024-05-25T05:57:56.987282Z",
          "iopub.execute_input": "2024-05-25T05:57:56.987824Z",
          "iopub.status.idle": "2024-05-25T05:57:57.274548Z",
          "shell.execute_reply.started": "2024-05-25T05:57:56.987795Z",
          "shell.execute_reply": "2024-05-25T05:57:57.273389Z"
        },
        "trusted": true
      },
      "execution_count": null,
      "outputs": []
    },
    {
      "cell_type": "markdown",
      "source": [
        "#Crimes rates seem to peak at summer months"
      ],
      "metadata": {
        "id": "Hj8JFKwKm7RY"
      }
    },
    {
      "cell_type": "code",
      "source": [
        "plt.figure(figsize=(11,5))\n",
        "crimes.resample('M').size().plot(legend=False)\n",
        "plt.title('Number of crimes per month (2001 - 2024)')\n",
        "plt.xlabel('Months')\n",
        "plt.ylabel('Number of crimes')\n",
        "plt.show()"
      ],
      "metadata": {
        "id": "f-IsrsrU9wNZ",
        "execution": {
          "iopub.status.busy": "2024-05-25T05:57:57.275876Z",
          "iopub.execute_input": "2024-05-25T05:57:57.276176Z",
          "iopub.status.idle": "2024-05-25T05:57:57.741245Z",
          "shell.execute_reply.started": "2024-05-25T05:57:57.276152Z",
          "shell.execute_reply": "2024-05-25T05:57:57.740112Z"
        },
        "trusted": true
      },
      "execution_count": null,
      "outputs": []
    },
    {
      "cell_type": "markdown",
      "source": [
        "#This chart shows a clear \"periodic\" pattern in the crimes over many years."
      ],
      "metadata": {
        "id": "m9wAMQawoBOR"
      }
    },
    {
      "cell_type": "code",
      "source": [
        "plt.figure(figsize=(11,4))\n",
        "crimes.resample('D').size().rolling(365).sum().plot()\n",
        "plt.title('Rolling sum of all crimes from 2005 - 2016')\n",
        "plt.ylabel('Number of crimes')\n",
        "plt.xlabel('Days')\n",
        "plt.show()"
      ],
      "metadata": {
        "id": "b0Ub097e9wQT",
        "execution": {
          "iopub.status.busy": "2024-05-25T05:57:57.748027Z",
          "iopub.execute_input": "2024-05-25T05:57:57.74836Z",
          "iopub.status.idle": "2024-05-25T05:57:58.450365Z",
          "shell.execute_reply.started": "2024-05-25T05:57:57.748335Z",
          "shell.execute_reply": "2024-05-25T05:57:58.449429Z"
        },
        "trusted": true
      },
      "execution_count": null,
      "outputs": []
    },
    {
      "cell_type": "markdown",
      "source": [
        "#We see the line decreasing from 2006 up to some point around 2016 after which it stays around the same number of crimes. This all means that 2016 is really no better than 2015, but both years show a much better crime record (in total) than the previous years. Then there is sudden drop in number of cases around 2020, then is began to rize up again"
      ],
      "metadata": {
        "id": "L5Vj4-FDogWv"
      }
    },
    {
      "cell_type": "code",
      "source": [
        "crimes_count_date = crimes.pivot_table('ID', aggfunc=np.size, columns='Primary Type', index=crimes.index.date, fill_value=0)\n",
        "crimes_count_date.index = pd.DatetimeIndex(crimes_count_date.index)\n",
        "plo = crimes_count_date.rolling(365).sum().plot(figsize=(12, 30), subplots=True, layout=(-1, 3), sharex=False, sharey=False)"
      ],
      "metadata": {
        "id": "4JXGSCm89wSW",
        "execution": {
          "iopub.status.busy": "2024-05-25T05:57:58.451657Z",
          "iopub.execute_input": "2024-05-25T05:57:58.452846Z",
          "iopub.status.idle": "2024-05-25T05:58:05.602961Z",
          "shell.execute_reply.started": "2024-05-25T05:57:58.452814Z",
          "shell.execute_reply": "2024-05-25T05:58:05.601605Z"
        },
        "trusted": true
      },
      "execution_count": null,
      "outputs": []
    },
    {
      "cell_type": "code",
      "source": [
        "import pandas as pd\n",
        "import matplotlib.pyplot as plt\n",
        "\n",
        "# Extract the year from the 'date' column\n",
        "crimes['year'] = pd.to_datetime(crimes['Date']).dt.year\n",
        "\n",
        "# Group the data by year and Primary Type, and count the occurrences\n",
        "crime_counts = crimes.groupby(['year', 'Primary Type']).size().reset_index(name='count')\n",
        "\n",
        "# Pivot the data to create a wide format for plotting\n",
        "crime_counts = crime_counts.pivot(index='year', columns='Primary Type', values='count').fillna(0)\n",
        "\n",
        "# Create a color map for crime types\n",
        "crime_colors = plt.cm.get_cmap('tab20', len(crime_counts.columns))\n",
        "color_map = {col: crime_colors(i) for i, col in enumerate(crime_counts.columns)}\n",
        "\n",
        "# Plot the data\n",
        "fig, ax = plt.subplots(figsize=(12, 8))\n",
        "crime_counts.plot(ax=ax, kind='line', color=[color_map[col] for col in crime_counts.columns])\n",
        "\n",
        "# Add legend\n",
        "legend_labels = crime_counts.columns.tolist()\n",
        "legend_colors = [color_map[col] for col in crime_counts.columns]\n",
        "ax.legend(legend_labels, bbox_to_anchor=(1.02, 1), loc='upper left', ncol=1, fancybox=True, shadow=True)\n",
        "\n",
        "# Adjust plot settings\n",
        "ax.set_xlabel('Year')\n",
        "ax.set_ylabel('Crime Count')\n",
        "ax.set_title('The trend of crime types across the years')\n",
        "plt.xticks(rotation=45)\n",
        "plt.tight_layout()\n",
        "plt.show()"
      ],
      "metadata": {
        "id": "CWgsuRbdF-Lk",
        "execution": {
          "iopub.status.busy": "2024-05-25T05:58:05.604395Z",
          "iopub.execute_input": "2024-05-25T05:58:05.604758Z",
          "iopub.status.idle": "2024-05-25T05:58:06.360314Z",
          "shell.execute_reply.started": "2024-05-25T05:58:05.604726Z",
          "shell.execute_reply": "2024-05-25T05:58:06.359381Z"
        },
        "trusted": true
      },
      "execution_count": null,
      "outputs": []
    },
    {
      "cell_type": "markdown",
      "source": [
        "#Above graphs reflected an average trend toward decreasing crimes. But it is not the case. Some crime types are actually increasing all along like homicide and deceptive practice. Other types started to increase slightly before 2016 like theft, robbery and stalking (which may be the reason behind the trend we saw earlier)."
      ],
      "metadata": {
        "id": "6mWFbdUHpSpu"
      }
    },
    {
      "cell_type": "code",
      "source": [
        "import seaborn as sns"
      ],
      "metadata": {
        "id": "Eu3Cr_i6OTPU",
        "execution": {
          "iopub.status.busy": "2024-05-25T05:58:06.362164Z",
          "iopub.execute_input": "2024-05-25T05:58:06.362807Z",
          "iopub.status.idle": "2024-05-25T05:58:06.696327Z",
          "shell.execute_reply.started": "2024-05-25T05:58:06.362776Z",
          "shell.execute_reply": "2024-05-25T05:58:06.695341Z"
        },
        "trusted": true
      },
      "execution_count": null,
      "outputs": []
    },
    {
      "cell_type": "code",
      "source": [
        "import pandas as pd\n",
        "import matplotlib.pyplot as plt\n",
        "import seaborn as sns\n",
        "\n",
        "# Assuming crimes is your DataFrame\n",
        "\n",
        "# Select only the numeric columns\n",
        "numeric_crimes = crimes.select_dtypes(include=['float64', 'int64'])\n",
        "\n",
        "plt.figure(figsize=(10, 8))  # Set the figure size\n",
        "\n",
        "# Compute the correlation matrix for numeric columns and plot the heatmap\n",
        "sns.heatmap(data=numeric_crimes.corr(), annot=True, fmt=\".2f\", linewidth=0.5, cmap=\"Blues\")\n",
        "\n",
        "plt.show()\n"
      ],
      "metadata": {
        "id": "bCY-QuJuTuLu",
        "execution": {
          "iopub.status.busy": "2024-05-25T05:58:06.697822Z",
          "iopub.execute_input": "2024-05-25T05:58:06.698424Z",
          "iopub.status.idle": "2024-05-25T05:58:07.076222Z",
          "shell.execute_reply.started": "2024-05-25T05:58:06.698393Z",
          "shell.execute_reply": "2024-05-25T05:58:07.074528Z"
        },
        "trusted": true
      },
      "execution_count": null,
      "outputs": []
    },
    {
      "cell_type": "code",
      "source": [
        "import pandas as pd\n",
        "import matplotlib.pyplot as plt\n",
        "\n",
        "# Load your dataset\n",
        "# crimes = pd.read_csv('/content/drive/MyDrive/bda/chicago_crime_dataset_bda.csv', parse_dates=['Date'])\n",
        "\n",
        "# Convert the 'Date' column to datetime objects\n",
        "crimes['Date'] = pd.to_datetime(crimes['Date'])\n",
        "\n",
        "# Extract the year from the 'Date' column\n",
        "crimes['Year'] = crimes['Date'].dt.year\n",
        "\n",
        "# Filter data for the years 2006 to 2013\n",
        "filtered_crimes = crimes[(crimes['Year'] >= 2006) & (crimes['Year'] <= 2013)]\n",
        "\n",
        "# Group the filtered data by year and count the 'Primary Type' and sum the 'Arrested' column\n",
        "grouped_crimes = filtered_crimes.groupby('Year')[['Primary Type', 'Arrest']].agg({'Primary Type': 'count', 'Arrest': 'sum'}).reset_index()\n",
        "\n",
        "# Create a plot with two y-axes\n",
        "fig, ax1 = plt.subplots(figsize=(10, 6))\n",
        "\n",
        "# Plot the total crimes on the first y-axis\n",
        "color = 'tab:blue'\n",
        "ax1.set_xlabel('Year')\n",
        "ax1.set_ylabel('Total Crimes', color=color)\n",
        "ax1.bar(grouped_crimes['Year'], grouped_crimes['Primary Type'], color=color, label='Total Crimes')\n",
        "ax1.tick_params(axis='y', labelcolor=color)\n",
        "\n",
        "# Create a second y-axis for the number of arrests\n",
        "ax2 = ax1.twinx()\n",
        "color = 'tab:orange'\n",
        "ax2.set_ylabel('Number of Arrests', color=color)\n",
        "ax2.plot(grouped_crimes['Year'], grouped_crimes['Arrest'], color=color, marker='o', label='Number of Arrests')\n",
        "ax2.tick_params(axis='y', labelcolor=color)\n",
        "\n",
        "# Add legends\n",
        "fig.tight_layout()\n",
        "fig.legend(loc='upper left')\n",
        "\n",
        "plt.title('Comparison of Total Crimes and Number of Arrests (2006-2013)')\n",
        "plt.show()"
      ],
      "metadata": {
        "id": "HXSF43pC-VV0",
        "execution": {
          "iopub.status.busy": "2024-05-25T05:58:07.077759Z",
          "iopub.execute_input": "2024-05-25T05:58:07.078181Z",
          "iopub.status.idle": "2024-05-25T05:58:07.633101Z",
          "shell.execute_reply.started": "2024-05-25T05:58:07.07815Z",
          "shell.execute_reply": "2024-05-25T05:58:07.63177Z"
        },
        "trusted": true
      },
      "execution_count": null,
      "outputs": []
    },
    {
      "cell_type": "markdown",
      "source": [
        "##Model random forest"
      ],
      "metadata": {
        "id": "kS62yyJhHn1U"
      }
    },
    {
      "cell_type": "code",
      "source": [
        "crimes['Primary Type'].unique()"
      ],
      "metadata": {
        "id": "Kn3CXlywHnA6",
        "execution": {
          "iopub.status.busy": "2024-05-25T05:58:07.634779Z",
          "iopub.execute_input": "2024-05-25T05:58:07.635928Z",
          "iopub.status.idle": "2024-05-25T05:58:07.644934Z",
          "shell.execute_reply.started": "2024-05-25T05:58:07.635889Z",
          "shell.execute_reply": "2024-05-25T05:58:07.643746Z"
        },
        "trusted": true
      },
      "execution_count": null,
      "outputs": []
    },
    {
      "cell_type": "code",
      "source": [
        "crimes"
      ],
      "metadata": {
        "id": "S01c6JWbsQJ5",
        "execution": {
          "iopub.status.busy": "2024-05-25T05:58:07.646417Z",
          "iopub.execute_input": "2024-05-25T05:58:07.646751Z",
          "iopub.status.idle": "2024-05-25T05:58:07.673776Z",
          "shell.execute_reply.started": "2024-05-25T05:58:07.646725Z",
          "shell.execute_reply": "2024-05-25T05:58:07.672585Z"
        },
        "trusted": true
      },
      "execution_count": null,
      "outputs": []
    },
    {
      "cell_type": "code",
      "source": [
        "crimes = crimes.drop(columns = ['Date', 'ID', 'Latitude', 'Longitude', 'year'])"
      ],
      "metadata": {
        "id": "YvPzYf1QbACa",
        "execution": {
          "iopub.status.busy": "2024-05-25T05:58:07.675303Z",
          "iopub.execute_input": "2024-05-25T05:58:07.676214Z",
          "iopub.status.idle": "2024-05-25T05:58:07.699574Z",
          "shell.execute_reply.started": "2024-05-25T05:58:07.676183Z",
          "shell.execute_reply": "2024-05-25T05:58:07.698367Z"
        },
        "trusted": true
      },
      "execution_count": null,
      "outputs": []
    },
    {
      "cell_type": "code",
      "source": [
        "crimes"
      ],
      "metadata": {
        "id": "BqDbEsfMjWCr",
        "execution": {
          "iopub.status.busy": "2024-05-25T05:58:07.700956Z",
          "iopub.execute_input": "2024-05-25T05:58:07.701392Z",
          "iopub.status.idle": "2024-05-25T05:58:07.722805Z",
          "shell.execute_reply.started": "2024-05-25T05:58:07.701362Z",
          "shell.execute_reply": "2024-05-25T05:58:07.721809Z"
        },
        "trusted": true
      },
      "execution_count": null,
      "outputs": []
    },
    {
      "cell_type": "code",
      "source": [
        "crimes = crimes.drop(columns = ['Block'])"
      ],
      "metadata": {
        "id": "3AvWX3vpjWnt",
        "execution": {
          "iopub.status.busy": "2024-05-25T05:58:07.724303Z",
          "iopub.execute_input": "2024-05-25T05:58:07.724824Z",
          "iopub.status.idle": "2024-05-25T05:58:07.740547Z",
          "shell.execute_reply.started": "2024-05-25T05:58:07.724791Z",
          "shell.execute_reply": "2024-05-25T05:58:07.739458Z"
        },
        "trusted": true
      },
      "execution_count": null,
      "outputs": []
    },
    {
      "cell_type": "code",
      "source": [
        "crimes = pd.get_dummies(crimes, columns=['Description', 'Location Description', 'Arrest', 'Domestic'], drop_first=True)"
      ],
      "metadata": {
        "id": "TEk-CdQ9j0Oj",
        "execution": {
          "iopub.status.busy": "2024-05-25T05:58:07.742052Z",
          "iopub.execute_input": "2024-05-25T05:58:07.74247Z",
          "iopub.status.idle": "2024-05-25T05:58:07.781393Z",
          "shell.execute_reply.started": "2024-05-25T05:58:07.742435Z",
          "shell.execute_reply": "2024-05-25T05:58:07.780221Z"
        },
        "trusted": true
      },
      "execution_count": null,
      "outputs": []
    },
    {
      "cell_type": "code",
      "source": [
        "crimes"
      ],
      "metadata": {
        "id": "k5kgLFfsk6ZO",
        "execution": {
          "iopub.status.busy": "2024-05-25T05:58:07.783243Z",
          "iopub.execute_input": "2024-05-25T05:58:07.783731Z",
          "iopub.status.idle": "2024-05-25T05:58:07.837519Z",
          "shell.execute_reply.started": "2024-05-25T05:58:07.783688Z",
          "shell.execute_reply": "2024-05-25T05:58:07.836414Z"
        },
        "trusted": true
      },
      "execution_count": null,
      "outputs": []
    },
    {
      "cell_type": "code",
      "source": [
        "crimes = crimes[crimes['Primary Type'] != \"HUMAN TRAFFICKING\"]"
      ],
      "metadata": {
        "id": "amYAX8-wrhDN",
        "execution": {
          "iopub.status.busy": "2024-05-25T05:58:07.839063Z",
          "iopub.execute_input": "2024-05-25T05:58:07.839387Z",
          "iopub.status.idle": "2024-05-25T05:58:07.851567Z",
          "shell.execute_reply.started": "2024-05-25T05:58:07.839361Z",
          "shell.execute_reply": "2024-05-25T05:58:07.850339Z"
        },
        "trusted": true
      },
      "execution_count": null,
      "outputs": []
    },
    {
      "cell_type": "code",
      "source": [
        "crimes['Primary Type'].unique()"
      ],
      "metadata": {
        "id": "exboQ25Zrqtr",
        "execution": {
          "iopub.status.busy": "2024-05-25T05:58:07.852845Z",
          "iopub.execute_input": "2024-05-25T05:58:07.853402Z",
          "iopub.status.idle": "2024-05-25T05:58:07.864216Z",
          "shell.execute_reply.started": "2024-05-25T05:58:07.853368Z",
          "shell.execute_reply": "2024-05-25T05:58:07.862831Z"
        },
        "trusted": true
      },
      "execution_count": null,
      "outputs": []
    },
    {
      "cell_type": "code",
      "source": [
        "import matplotlib.pyplot as plt\n",
        "import seaborn as sns\n",
        "from sklearn.model_selection import train_test_split\n",
        "\n",
        "X = crimes.drop('Primary Type',axis=1)\n",
        "y = crimes['Primary Type']\n",
        "\n",
        "# Function to display feature importance\n",
        "def display_feature_importance(model, top_n=34,percentage=3, plot=True):\n",
        "    # Fit the model\n",
        "    model.fit(X, y)\n",
        "\n",
        "    # Get feature importance\n",
        "    feature_importance = model.feature_importances_\n",
        "    feature_names = X.columns\n",
        "\n",
        "    # Create a DataFrame for better visualization\n",
        "    feature_importance_df = pd.DataFrame({'Feature': feature_names, 'Importance': feature_importance})\n",
        "\n",
        "    # Sort features by importance\n",
        "    feature_importance_df = feature_importance_df.sort_values(by='Importance', ascending=False)\n",
        "\n",
        "    # Calculate threshold based on percentage of the top feature importance\n",
        "    threshold = percentage / 100 * feature_importance_df.iloc[0]['Importance']\n",
        "\n",
        "    # Select features that meet the threshold\n",
        "    selected_features = feature_importance_df[feature_importance_df['Importance'] >= threshold]['Feature'].tolist()\n",
        "\n",
        "    if plot==True:\n",
        "        # Set seaborn color palette to \"viridis\"\n",
        "        sns.set(style=\"whitegrid\", palette=\"viridis\")\n",
        "\n",
        "        # Display or plot the top features\n",
        "        plt.figure(figsize=(10, 6))\n",
        "        sns.barplot(x='Importance', y='Feature', data=feature_importance_df.head(top_n))\n",
        "        plt.title('Feature Importance for {}'.format(type(model).__name__))\n",
        "        plt.show()\n",
        "\n",
        "        print(\"Selected Features at threshold {}%; {}\".format(percentage,selected_features))\n",
        "\n",
        "    # Add 'smoking' to the list of selected features\n",
        "    selected_features.append('Primary Type')\n",
        "\n",
        "    return selected_features"
      ],
      "metadata": {
        "id": "guY-5Svck7nr",
        "execution": {
          "iopub.status.busy": "2024-05-25T05:58:07.86706Z",
          "iopub.execute_input": "2024-05-25T05:58:07.867798Z",
          "iopub.status.idle": "2024-05-25T05:58:08.211665Z",
          "shell.execute_reply.started": "2024-05-25T05:58:07.867757Z",
          "shell.execute_reply": "2024-05-25T05:58:08.210418Z"
        },
        "trusted": true
      },
      "execution_count": null,
      "outputs": []
    },
    {
      "cell_type": "code",
      "source": [
        "# from sklearn.preprocessing import label_binarize\n",
        "\n",
        "# # Binarize y_test to get a better handle on classes\n",
        "# classes = np.unique(y_train)\n",
        "# y_test_binarized = label_binarize(y_test, classes=classes)\n",
        "\n",
        "# print(\"Unique classes in training:\", classes)\n",
        "# print(\"Predicted probability shape:\", adaboost_pred_proba.shape)\n",
        "# print(\"Binarized y_test shape:\", y_test_binarized.shape)\n"
      ],
      "metadata": {
        "id": "xqAf3zITphZ2",
        "execution": {
          "iopub.status.busy": "2024-05-25T05:58:08.213249Z",
          "iopub.execute_input": "2024-05-25T05:58:08.213592Z",
          "iopub.status.idle": "2024-05-25T05:58:08.219949Z",
          "shell.execute_reply.started": "2024-05-25T05:58:08.213563Z",
          "shell.execute_reply": "2024-05-25T05:58:08.218765Z"
        },
        "trusted": true
      },
      "execution_count": null,
      "outputs": []
    },
    {
      "cell_type": "code",
      "source": [
        "from sklearn.ensemble import AdaBoostClassifier\n",
        "from sklearn.model_selection import train_test_split\n",
        "from sklearn.metrics import roc_auc_score\n",
        "\n",
        "# Assuming you have your training data (X, y)\n",
        "# Splitting the data for training and testing\n",
        "X_train, X_test, y_train, y_test = train_test_split(X, y, test_size=0.7, random_state=42, stratify = y)\n",
        "\n",
        "# List to store AUC scores for each trial percentage\n",
        "auc_scores_adaboost = []\n",
        "\n",
        "# List to store selected features for AdaBoost and trial percentage\n",
        "selected_features_adaboost = []\n",
        "\n",
        "# List of trial percentages\n",
        "trial_percentages_adaboost = [0, 2, 4, 6, 8, 10, 12, 14, 16, 18, 22, 26, 30]\n",
        "\n",
        "# Loop over each trial percentage\n",
        "for percentage_adaboost in trial_percentages_adaboost:\n",
        "    # Get selected features for AdaBoost\n",
        "    adaboost_selected_features = display_feature_importance(AdaBoostClassifier(), percentage=percentage_adaboost)\n",
        "\n",
        "    # Append selected features to the list\n",
        "    selected_features_adaboost.append(adaboost_selected_features)\n",
        "\n",
        "    # Ensure selected features are present in training data\n",
        "    adaboost_selected_features = [feature for feature in adaboost_selected_features if feature in X_train.columns]\n",
        "\n",
        "    # Check if any features are selected\n",
        "    if len(adaboost_selected_features) == 0:\n",
        "        continue\n",
        "\n",
        "    # Initialize and fit AdaBoost model on training data\n",
        "    adaboost_model = AdaBoostClassifier()\n",
        "    adaboost_model.fit(X_train[adaboost_selected_features], y_train)\n",
        "\n",
        "    # Predict probabilities on the test set\n",
        "    adaboost_pred_proba = adaboost_model.predict_proba(X_test[adaboost_selected_features])\n",
        "\n",
        "    print(len(adaboost_pred_proba), len(y_test))\n",
        "\n",
        "    # Calculate AUC score for each class\n",
        "    auc_adaboost = roc_auc_score(y_test, adaboost_pred_proba, average='macro', multi_class = 'ovr')\n",
        "    auc_scores_adaboost.append(auc_adaboost)\n",
        "\n",
        "# Plotting for AdaBoost\n",
        "fig, ax = plt.subplots(figsize=(12, 8))\n",
        "\n",
        "# Plotting line for AdaBoost\n",
        "plt.plot(trial_percentages_adaboost, auc_scores_adaboost, label='AdaBoost', marker='o', color='orange')\n",
        "\n",
        "plt.xlabel('Trial Percentages')\n",
        "plt.ylabel('AUC Score')\n",
        "plt.title('AdaBoost Model Performance for Different Feature Selection Percentages')\n",
        "plt.legend()\n",
        "plt.show()"
      ],
      "metadata": {
        "id": "MI6cyV57lnPf",
        "execution": {
          "iopub.status.busy": "2024-05-25T05:58:08.221513Z",
          "iopub.execute_input": "2024-05-25T05:58:08.221843Z",
          "iopub.status.idle": "2024-05-25T06:08:37.725494Z",
          "shell.execute_reply.started": "2024-05-25T05:58:08.221818Z",
          "shell.execute_reply": "2024-05-25T06:08:37.724096Z"
        },
        "trusted": true
      },
      "execution_count": null,
      "outputs": []
    },
    {
      "cell_type": "code",
      "source": [
        "adaboost_model = AdaBoostClassifier()\n",
        "\n",
        "# Display feature importance and plot\n",
        "selected_features_adaboost = display_feature_importance(adaboost_model, top_n=30, percentage=0, plot = True)"
      ],
      "metadata": {
        "id": "fuRpOpIcpP00",
        "execution": {
          "iopub.status.busy": "2024-05-25T06:08:37.727429Z",
          "iopub.execute_input": "2024-05-25T06:08:37.727927Z",
          "iopub.status.idle": "2024-05-25T06:09:13.786301Z",
          "shell.execute_reply.started": "2024-05-25T06:08:37.727883Z",
          "shell.execute_reply": "2024-05-25T06:09:13.7851Z"
        },
        "trusted": true
      },
      "execution_count": null,
      "outputs": []
    },
    {
      "cell_type": "code",
      "source": [
        "pip install optuna"
      ],
      "metadata": {
        "id": "hVfZjgEJzgjH",
        "execution": {
          "iopub.status.busy": "2024-05-25T06:09:13.787751Z",
          "iopub.execute_input": "2024-05-25T06:09:13.788078Z",
          "iopub.status.idle": "2024-05-25T06:09:27.881707Z",
          "shell.execute_reply.started": "2024-05-25T06:09:13.788051Z",
          "shell.execute_reply": "2024-05-25T06:09:27.880225Z"
        },
        "trusted": true
      },
      "execution_count": null,
      "outputs": []
    },
    {
      "cell_type": "code",
      "source": [
        "pip install cmaes"
      ],
      "metadata": {
        "id": "bVDcczCTz4ql",
        "execution": {
          "iopub.status.busy": "2024-05-25T06:09:27.883482Z",
          "iopub.execute_input": "2024-05-25T06:09:27.883871Z",
          "iopub.status.idle": "2024-05-25T06:09:40.463316Z",
          "shell.execute_reply.started": "2024-05-25T06:09:27.883838Z",
          "shell.execute_reply": "2024-05-25T06:09:40.461769Z"
        },
        "trusted": true
      },
      "execution_count": null,
      "outputs": []
    },
    {
      "cell_type": "code",
      "source": [
        "# # ADABOOST HYPERPARAMETER\n",
        "# import optuna\n",
        "# from sklearn.tree import DecisionTreeClassifier\n",
        "# from sklearn.ensemble import AdaBoostClassifier\n",
        "# from sklearn.metrics import accuracy_score\n",
        "# from sklearn.model_selection import train_test_split\n",
        "# from sklearn.preprocessing import LabelEncoder, OneHotEncoder\n",
        "# import pandas as pd\n",
        "\n",
        "# X_train, X_val, y_train, y_val = train_test_split(X, y, test_size=0.3, random_state=42)\n",
        "\n",
        "# # # Initialize the label encoder\n",
        "# label_encoder = LabelEncoder()\n",
        "\n",
        "# # Fit and transform the target variable\n",
        "# y_train_encoded = label_encoder.fit_transform(y_train)\n",
        "# y_val_encoded = label_encoder.transform(y_val)\n",
        "\n",
        "# # Define the objective function to optimize\n",
        "# def objective(trial):\n",
        "#     # Define hyperparameters to search\n",
        "#     adaboost_params = {\n",
        "#         'n_estimators': trial.suggest_int('n_estimators', 50, 1000),\n",
        "#         'learning_rate': trial.suggest_float('learning_rate', 0.01, 1.0),\n",
        "#         # Additional hyperparameters can be added based on your requirements\n",
        "#     }\n",
        "\n",
        "#     # Initialize DecisionTreeClassifier with parameters suggested by Optuna\n",
        "#     tree_params = {\n",
        "#         'splitter': trial.suggest_categorical('splitter', ['best', 'random']),\n",
        "#         'max_depth': trial.suggest_int('max_depth', 1, 10),\n",
        "#     }\n",
        "\n",
        "#     base_estimator = DecisionTreeClassifier(**tree_params)\n",
        "\n",
        "#     # Initialize AdaBoost classifier with the base estimator\n",
        "#     model = AdaBoostClassifier(base_estimator=base_estimator, **adaboost_params, random_state=42)\n",
        "\n",
        "#     # Fit the model\n",
        "#     model.fit(X_train, y_train_encoded)\n",
        "\n",
        "#     # Predict on the validation set\n",
        "#     y_pred_encoded = model.predict(X_val)\n",
        "\n",
        "#     # Decode the predictions back to original labels\n",
        "#     y_pred = label_encoder.inverse_transform(y_pred_encoded)\n",
        "\n",
        "#     # Calculate accuracy\n",
        "#     accuracy = accuracy_score(y_val, y_pred)\n",
        "\n",
        "#     return accuracy\n",
        "\n",
        "# # Define study\n",
        "# study = optuna.create_study(direction='maximize', sampler=optuna.samplers.CmaEsSampler())\n",
        "\n",
        "# # Optimize hyperparameters\n",
        "# study.optimize(objective, n_trials=20, show_progress_bar = True)\n",
        "\n",
        "# best_params = study.best_params\n",
        "\n",
        "# print(best_params)"
      ],
      "metadata": {
        "id": "iD_vW_Osy5lN",
        "execution": {
          "iopub.status.busy": "2024-05-25T06:09:40.465579Z",
          "iopub.execute_input": "2024-05-25T06:09:40.466465Z",
          "iopub.status.idle": "2024-05-25T06:09:40.474373Z",
          "shell.execute_reply.started": "2024-05-25T06:09:40.466418Z",
          "shell.execute_reply": "2024-05-25T06:09:40.472917Z"
        },
        "trusted": true
      },
      "execution_count": null,
      "outputs": []
    },
    {
      "cell_type": "code",
      "source": [
        "# ADABOOST\n",
        "from sklearn.ensemble import AdaBoostClassifier\n",
        "from sklearn.datasets import make_classification\n",
        "from sklearn.tree import DecisionTreeClassifier\n",
        "\n",
        "# adaboost_params = {'n_estimators': 367, 'learning_rate': 0.2687183224582479} #v1\n",
        "# best_base_estimator_params = {'splitter': 'random', 'max_depth': 2} #v1\n",
        "\n",
        "adaboost_params = {'n_estimators': 910, 'learning_rate': 0.8135287583324838}\n",
        "best_base_estimator_params = {'splitter': 'best', 'max_depth': 10}\n",
        "base_estimator = DecisionTreeClassifier(**best_base_estimator_params)\n",
        "adaboost = AdaBoostClassifier(base_estimator=base_estimator, **adaboost_params, random_state=42)"
      ],
      "metadata": {
        "id": "2FOuthuZPH8W",
        "execution": {
          "iopub.status.busy": "2024-05-25T06:09:40.476259Z",
          "iopub.execute_input": "2024-05-25T06:09:40.476809Z",
          "iopub.status.idle": "2024-05-25T06:09:40.603218Z",
          "shell.execute_reply.started": "2024-05-25T06:09:40.476767Z",
          "shell.execute_reply": "2024-05-25T06:09:40.602031Z"
        },
        "trusted": true
      },
      "execution_count": null,
      "outputs": []
    },
    {
      "cell_type": "code",
      "source": [
        "from sklearn.preprocessing import LabelEncoder\n",
        "\n",
        "# Encode the target variable\n",
        "label_encoder = LabelEncoder()\n",
        "y = label_encoder.fit_transform(y_train)\n",
        "# crimes[selected_features_adaboost].drop('Primary Type', axis = 1)\n",
        "# Create and fit the AdaBoostClassifier\n",
        "# crimes[selected_features_adaboost]\n",
        "# selected_features_adaboost\n",
        "\n",
        "model = AdaBoostClassifier(base_estimator=base_estimator, **adaboost_params, random_state=42)\n",
        "model.fit(X_train, y)\n",
        "\n",
        "# Make predictions on the test set\n",
        "# y_pred_encoded = model.predict(test[[feature for feature in selected_features_adaboost if feature != 'Primary Type']])"
      ],
      "metadata": {
        "id": "rP1UGe39UKis",
        "execution": {
          "iopub.status.busy": "2024-05-25T06:09:40.604794Z",
          "iopub.execute_input": "2024-05-25T06:09:40.605213Z",
          "iopub.status.idle": "2024-05-25T06:15:32.02863Z",
          "shell.execute_reply.started": "2024-05-25T06:09:40.605178Z",
          "shell.execute_reply": "2024-05-25T06:15:32.027012Z"
        },
        "trusted": true
      },
      "execution_count": null,
      "outputs": []
    },
    {
      "cell_type": "code",
      "source": [
        "from sklearn.metrics import classification_report\n",
        "y_pred_encoded = model.predict(X_test)\n",
        "\n",
        "# Decode predictions back to original labels\n",
        "y_pred = label_encoder.inverse_transform(y_pred_encoded)\n",
        "\n",
        "# Print classification report\n",
        "print(\"Classification Report:\")\n",
        "print(classification_report(y_test, y_pred))"
      ],
      "metadata": {
        "id": "r6tAGre4UKlH",
        "execution": {
          "iopub.status.busy": "2024-05-25T06:15:32.030529Z",
          "iopub.execute_input": "2024-05-25T06:15:32.031113Z",
          "iopub.status.idle": "2024-05-25T06:18:05.937713Z",
          "shell.execute_reply.started": "2024-05-25T06:15:32.031081Z",
          "shell.execute_reply": "2024-05-25T06:18:05.936476Z"
        },
        "trusted": true
      },
      "execution_count": null,
      "outputs": []
    },
    {
      "cell_type": "code",
      "source": [
        "# import optuna\n",
        "# import xgboost as xgb\n",
        "# from sklearn.tree import DecisionTreeClassifier\n",
        "# from sklearn.ensemble import AdaBoostClassifier\n",
        "# from sklearn.metrics import accuracy_score\n",
        "# from sklearn.model_selection import train_test_split\n",
        "# from sklearn.preprocessing import LabelEncoder, OneHotEncoder\n",
        "# import pandas as pd\n",
        "\n",
        "# X_train, X_val, y_train, y_val = train_test_split(X, y, test_size=0.3, random_state=42)\n",
        "\n",
        "# # # Initialize the label encoder\n",
        "# label_encoder = LabelEncoder()\n",
        "\n",
        "# # Fit and transform the target variable\n",
        "# y_train_encoded = label_encoder.fit_transform(y_train)\n",
        "# y_val_encoded = label_encoder.transform(y_val)\n",
        "\n",
        "# # Define the objective function to optimize\n",
        "# def objective(trial):\n",
        "#     # Define hyperparameters to search\n",
        "#     params = {\n",
        "#         'max_depth': trial.suggest_int('max_depth', 3, 10),\n",
        "#         'learning_rate': trial.suggest_loguniform('learning_rate', 0.01, 0.5),\n",
        "#         'n_estimators': trial.suggest_int('n_estimators', 100, 1000),\n",
        "#         'gamma': trial.suggest_loguniform('gamma', 1e-8, 1.0),\n",
        "#         'min_child_weight': trial.suggest_loguniform('min_child_weight', 1e-8, 1.0),\n",
        "#         'subsample': trial.suggest_uniform('subsample', 0.5, 1.0),\n",
        "#         'colsample_bytree': trial.suggest_uniform('colsample_bytree', 0.5, 1.0),\n",
        "#         'reg_alpha': trial.suggest_loguniform('reg_alpha', 1e-8, 1.0),\n",
        "#         'reg_lambda': trial.suggest_uniform('reg_lambda', 0.0, 1.0)\n",
        "#     }\n",
        "\n",
        "#     # Initialize XGBoost classifier\n",
        "#     model = xgb.XGBClassifier(**params, eval_metric='mlogloss')\n",
        "\n",
        "#     # Fit the model\n",
        "#     model.fit(X_train, y_train_encoded)\n",
        "\n",
        "#     # Predict on the validation set\n",
        "#     y_pred_encoded = model.predict(X_val)\n",
        "\n",
        "#     # Decode the predictions back to original labels\n",
        "#     y_pred = label_encoder.inverse_transform(y_pred_encoded)\n",
        "\n",
        "#     # Calculate accuracy\n",
        "#     accuracy = accuracy_score(y_val, y_pred)\n",
        "\n",
        "#     return accuracy\n",
        "\n",
        "# # Define study\n",
        "# study = optuna.create_study(direction='maximize', sampler=optuna.samplers.CmaEsSampler())\n",
        "\n",
        "# # Optimize hyperparameters\n",
        "# study.optimize(objective, n_trials=100, show_progress_bar = True)\n",
        "\n",
        "# best_params = study.best_params\n",
        "# best_params['eval_metric'] = 'mlogloss'\n",
        "\n",
        "# print(best_params)"
      ],
      "metadata": {
        "id": "r7YrkEkFmCpc",
        "execution": {
          "iopub.status.busy": "2024-05-25T06:18:05.939601Z",
          "iopub.execute_input": "2024-05-25T06:18:05.939974Z",
          "iopub.status.idle": "2024-05-25T06:18:05.946918Z",
          "shell.execute_reply.started": "2024-05-25T06:18:05.939943Z",
          "shell.execute_reply": "2024-05-25T06:18:05.945827Z"
        },
        "trusted": true
      },
      "execution_count": null,
      "outputs": []
    },
    {
      "cell_type": "code",
      "source": [
        "# best_params = {'max_depth': 4, 'learning_rate': 0.0779066477789779, 'n_estimators': 476, 'gamma': 0.0005911097817824864, 'min_child_weight': 0.00036671924431171436, 'subsample': 0.7209603514105916, 'colsample_bytree': 0.5365746437670638, 'reg_alpha': 8.135325864945739e-08, 'reg_lambda': 0.6636375034403076, 'eval_metric': 'mlogloss'}"
      ],
      "metadata": {
        "id": "xAxIIzLemDQa",
        "execution": {
          "iopub.status.busy": "2024-05-25T06:18:05.947992Z",
          "iopub.execute_input": "2024-05-25T06:18:05.948312Z",
          "iopub.status.idle": "2024-05-25T06:18:05.964424Z",
          "shell.execute_reply.started": "2024-05-25T06:18:05.948286Z",
          "shell.execute_reply": "2024-05-25T06:18:05.962967Z"
        },
        "trusted": true
      },
      "execution_count": null,
      "outputs": []
    },
    {
      "cell_type": "code",
      "source": [
        "# import xgboost as xgb\n",
        "# y = label_encoder.fit_transform(y_train)\n",
        "# final_model = xgb.XGBClassifier(**best_params)\n",
        "# final_model.fit(X_train, y)\n",
        "\n",
        "# y_pred_encoded = final_model.predict(X_test)"
      ],
      "metadata": {
        "id": "Eo-5qaotmDSr",
        "execution": {
          "iopub.status.busy": "2024-05-25T06:26:12.460511Z",
          "iopub.execute_input": "2024-05-25T06:26:12.461122Z",
          "iopub.status.idle": "2024-05-25T06:26:12.466737Z",
          "shell.execute_reply.started": "2024-05-25T06:26:12.461084Z",
          "shell.execute_reply": "2024-05-25T06:26:12.465452Z"
        },
        "trusted": true
      },
      "execution_count": null,
      "outputs": []
    },
    {
      "cell_type": "code",
      "source": [
        "y_pred = label_encoder.inverse_transform(y_pred_encoded)\n",
        "\n",
        "# Print classification report\n",
        "print(\"Classification Report:\")\n",
        "print(classification_report(y_test, y_pred))"
      ],
      "metadata": {
        "id": "lMT0Zqg2mDVH",
        "execution": {
          "iopub.status.busy": "2024-05-25T06:27:06.647061Z",
          "iopub.execute_input": "2024-05-25T06:27:06.647491Z",
          "iopub.status.idle": "2024-05-25T06:27:09.130506Z",
          "shell.execute_reply.started": "2024-05-25T06:27:06.647461Z",
          "shell.execute_reply": "2024-05-25T06:27:09.129397Z"
        },
        "trusted": true
      },
      "execution_count": null,
      "outputs": []
    },
    {
      "cell_type": "code",
      "source": [
        "from sklearn.linear_model import LogisticRegression\n",
        "from sklearn.metrics import accuracy_score, classification_report as cls_report\n",
        "\n",
        "# Initialize the Logistic Regression classifier\n",
        "logistic_regression_classifier = LogisticRegression(max_iter=1000)  # You can adjust max_iter as needed\n",
        "\n",
        "# Train the Logistic Regression classifier\n",
        "logistic_regression_classifier.fit(X_train, y_train)\n",
        "\n",
        "# Predict the sentiment for test set using Logistic Regression\n",
        "y_pred_logistic_regression = logistic_regression_classifier.predict(X_test)\n",
        "\n",
        "# Evaluate the performance of the Logistic Regression classifier\n",
        "accuracy_logistic_regression = accuracy_score(y_test, y_pred_logistic_regression)\n",
        "classification_report_logistic_regression = cls_report(y_test, y_pred_logistic_regression)\n",
        "\n",
        "# Print the evaluation results for Logistic Regression\n",
        "print(\"Logistic Regression Model Evaluation:\")\n",
        "print(\"Accuracy:\", accuracy_logistic_regression)\n",
        "print(\"\\nClassification Report:\")\n",
        "print(classification_report_logistic_regression)"
      ],
      "metadata": {
        "id": "lDD68fbrUKqM",
        "execution": {
          "iopub.status.busy": "2024-05-25T06:26:21.173594Z",
          "iopub.execute_input": "2024-05-25T06:26:21.173962Z",
          "iopub.status.idle": "2024-05-25T06:26:56.058736Z",
          "shell.execute_reply.started": "2024-05-25T06:26:21.173932Z",
          "shell.execute_reply": "2024-05-25T06:26:56.057481Z"
        },
        "trusted": true
      },
      "execution_count": null,
      "outputs": []
    },
    {
      "cell_type": "code",
      "source": [
        "from sklearn.ensemble import RandomForestClassifier\n",
        "from sklearn.metrics import classification_report\n",
        "\n",
        "# Initialize Random Forest classifier\n",
        "rf_classifier = RandomForestClassifier(random_state=42)\n",
        "\n",
        "# Fit the classifier to the training data\n",
        "rf_classifier.fit(X_train, y_train)\n",
        "\n",
        "# Predict on the test data\n",
        "rf_preds = rf_classifier.predict(X_test)\n",
        "\n",
        "# Print classification report\n",
        "print(\"Classification Report - Random Forest:\")\n",
        "print(classification_report(y_test, rf_preds))\n"
      ],
      "metadata": {
        "id": "5icKPWWdsjPX",
        "execution": {
          "iopub.status.busy": "2024-05-25T06:26:56.06078Z",
          "iopub.execute_input": "2024-05-25T06:26:56.061227Z",
          "iopub.status.idle": "2024-05-25T06:27:06.645152Z",
          "shell.execute_reply.started": "2024-05-25T06:26:56.061186Z",
          "shell.execute_reply": "2024-05-25T06:27:06.64405Z"
        },
        "trusted": true
      },
      "execution_count": null,
      "outputs": []
    },
    {
      "cell_type": "code",
      "source": [],
      "metadata": {
        "id": "qtDe2IcrskI6"
      },
      "execution_count": null,
      "outputs": []
    },
    {
      "cell_type": "code",
      "source": [],
      "metadata": {
        "id": "QzTP4sg4GRu9"
      },
      "execution_count": null,
      "outputs": []
    }
  ]
}